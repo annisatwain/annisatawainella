{
  "cells": [
    {
      "cell_type": "markdown",
      "metadata": {
        "id": "view-in-github",
        "colab_type": "text"
      },
      "source": [
        "<a href=\"https://colab.research.google.com/github/annisatwain/annisatawainella/blob/main/annisatawainella/TugasDLTM4/epoch100.ipynb\" target=\"_parent\"><img src=\"https://colab.research.google.com/assets/colab-badge.svg\" alt=\"Open In Colab\"/></a>"
      ]
    },
    {
      "source": [
        "\n",
        "# IMPORTANT: RUN THIS CELL IN ORDER TO IMPORT YOUR KAGGLE DATA SOURCES\n",
        "# TO THE CORRECT LOCATION (/kaggle/input) IN YOUR NOTEBOOK,\n",
        "# THEN FEEL FREE TO DELETE THIS CELL.\n",
        "# NOTE: THIS NOTEBOOK ENVIRONMENT DIFFERS FROM KAGGLE'S PYTHON\n",
        "# ENVIRONMENT SO THERE MAY BE MISSING LIBRARIES USED BY YOUR\n",
        "# NOTEBOOK.\n",
        "\n",
        "import os\n",
        "import sys\n",
        "from tempfile import NamedTemporaryFile\n",
        "from urllib.request import urlopen\n",
        "from urllib.parse import unquote, urlparse\n",
        "from urllib.error import HTTPError\n",
        "from zipfile import ZipFile\n",
        "import tarfile\n",
        "import shutil\n",
        "\n",
        "CHUNK_SIZE = 40960\n",
        "DATA_SOURCE_MAPPING = 'keras-pretrained-models:https%3A%2F%2Fstorage.googleapis.com%2Fkaggle-data-sets%2F2798%2F7251%2Fbundle%2Farchive.zip%3FX-Goog-Algorithm%3DGOOG4-RSA-SHA256%26X-Goog-Credential%3Dgcp-kaggle-com%2540kaggle-161607.iam.gserviceaccount.com%252F20240502%252Fauto%252Fstorage%252Fgoog4_request%26X-Goog-Date%3D20240502T044927Z%26X-Goog-Expires%3D259200%26X-Goog-SignedHeaders%3Dhost%26X-Goog-Signature%3D5b67846f17208601835c2f344a11f2fd2302efd873922fb40a6d02851cd4dda8b983aa77bea3d1c24826aa3d67767fe23a66ec248427085ffe4bc4b585c5c893decab62f7f5319db3e1a29036bac16bb748db9f02fca39b2e3b8ae059c80469a78de3048af650e8cabdacde0f9c93031967eea2af1cbcffc3ae3516db2fe7d61c62a9b91b2f692be80bf584fef61d590f217417d0ba171ddc5e27ae099b7bfc2d402fc2580d8b53f0d787778934548d58630d611ceca63e02cc2b12b9a55db08b84bbcab82442c3dd20e52b1a5812940292ec5012622f7543112041a2e4cfbc7abf58ba982088dbca339f0e1e4047ce53823baacaa987df82d6c29a2d142e641,fer2013:https%3A%2F%2Fstorage.googleapis.com%2Fkaggle-data-sets%2F786787%2F1351797%2Fbundle%2Farchive.zip%3FX-Goog-Algorithm%3DGOOG4-RSA-SHA256%26X-Goog-Credential%3Dgcp-kaggle-com%2540kaggle-161607.iam.gserviceaccount.com%252F20240502%252Fauto%252Fstorage%252Fgoog4_request%26X-Goog-Date%3D20240502T044927Z%26X-Goog-Expires%3D259200%26X-Goog-SignedHeaders%3Dhost%26X-Goog-Signature%3D333ce5ea383c1ad6ad4b49e67046e95c4e96f6550d337f064097b5fcbc93773adb22d4ed226e17cf98119c78bdb3acd7a21ae6ff47e7aad6b61f6326de630d451f49a1f208cc624b412687d52e1018d7110e89b13b184e8ab86cb1b1c8c12ad04ff2ab71b405c636bb8ab44162e5d05effebb1adcbc7b13361db060b85a2b4ea51f3e70078b4e21ba512f91d4e79d9096ef7b16f88a68159cf9f0d202582ff63ed05620c4b4dcd404010bf8377f1175ac97df310c6a031f7642f04673c60e0403001bb028fe027cce85f7ea6e44b469f4b658305f45c824f9ce55b87d252c48293c91624f497f192000659098ab5da7239b274d6be777a6d37a81e4edf50389a,emotion-detection-fer:https%3A%2F%2Fstorage.googleapis.com%2Fkaggle-data-sets%2F1028436%2F1732825%2Fbundle%2Farchive.zip%3FX-Goog-Algorithm%3DGOOG4-RSA-SHA256%26X-Goog-Credential%3Dgcp-kaggle-com%2540kaggle-161607.iam.gserviceaccount.com%252F20240502%252Fauto%252Fstorage%252Fgoog4_request%26X-Goog-Date%3D20240502T044928Z%26X-Goog-Expires%3D259200%26X-Goog-SignedHeaders%3Dhost%26X-Goog-Signature%3D796d0c278293e499148979340b21d2dc4c2fc90140f2f631af30ecf85f3fdd4167ea93e9972659cb7c2218d31104aced4a1c36dab5be26559ffc1178b7a6d49b63fffceab4e8ec62f650d01b9a3a91c3a984abc3cf323234f76a377d42fa3549378436c6576c0735ad0f7b65518bd800ff3132c40734cf267e2534f718229a2967f96a12e48f41b31e93b7d16b1fbd54eb36ae38899673e2e251045f71f3d0cba647077240c420ebbe44582053ff21e91985d1e1727698dc50d2e4a1ec338d4d93dc6727d97ed71227e66aa57090ee952c3aa339e5c365d0b53a973ba0e5b1e3dc49d43a1a8fc190d7fa5bc05c6402c488bdeff37d2e77f6ce4a3978fb1c98ef'\n",
        "\n",
        "KAGGLE_INPUT_PATH='/kaggle/input'\n",
        "KAGGLE_WORKING_PATH='/kaggle/working'\n",
        "KAGGLE_SYMLINK='kaggle'\n",
        "\n",
        "!umount /kaggle/input/ 2> /dev/null\n",
        "shutil.rmtree('/kaggle/input', ignore_errors=True)\n",
        "os.makedirs(KAGGLE_INPUT_PATH, 0o777, exist_ok=True)\n",
        "os.makedirs(KAGGLE_WORKING_PATH, 0o777, exist_ok=True)\n",
        "\n",
        "try:\n",
        "  os.symlink(KAGGLE_INPUT_PATH, os.path.join(\"..\", 'input'), target_is_directory=True)\n",
        "except FileExistsError:\n",
        "  pass\n",
        "try:\n",
        "  os.symlink(KAGGLE_WORKING_PATH, os.path.join(\"..\", 'working'), target_is_directory=True)\n",
        "except FileExistsError:\n",
        "  pass\n",
        "\n",
        "for data_source_mapping in DATA_SOURCE_MAPPING.split(','):\n",
        "    directory, download_url_encoded = data_source_mapping.split(':')\n",
        "    download_url = unquote(download_url_encoded)\n",
        "    filename = urlparse(download_url).path\n",
        "    destination_path = os.path.join(KAGGLE_INPUT_PATH, directory)\n",
        "    try:\n",
        "        with urlopen(download_url) as fileres, NamedTemporaryFile() as tfile:\n",
        "            total_length = fileres.headers['content-length']\n",
        "            print(f'Downloading {directory}, {total_length} bytes compressed')\n",
        "            dl = 0\n",
        "            data = fileres.read(CHUNK_SIZE)\n",
        "            while len(data) > 0:\n",
        "                dl += len(data)\n",
        "                tfile.write(data)\n",
        "                done = int(50 * dl / int(total_length))\n",
        "                sys.stdout.write(f\"\\r[{'=' * done}{' ' * (50-done)}] {dl} bytes downloaded\")\n",
        "                sys.stdout.flush()\n",
        "                data = fileres.read(CHUNK_SIZE)\n",
        "            if filename.endswith('.zip'):\n",
        "              with ZipFile(tfile) as zfile:\n",
        "                zfile.extractall(destination_path)\n",
        "            else:\n",
        "              with tarfile.open(tfile.name) as tarfile:\n",
        "                tarfile.extractall(destination_path)\n",
        "            print(f'\\nDownloaded and uncompressed: {directory}')\n",
        "    except HTTPError as e:\n",
        "        print(f'Failed to load (likely expired) {download_url} to path {destination_path}')\n",
        "        continue\n",
        "    except OSError as e:\n",
        "        print(f'Failed to load {download_url} to path {destination_path}')\n",
        "        continue\n",
        "\n",
        "print('Data source import complete.')\n"
      ],
      "metadata": {
        "colab": {
          "base_uri": "https://localhost:8080/"
        },
        "id": "qu1lKlNuoy5X",
        "outputId": "74a9df0b-fe2d-4175-fc93-21cdc199fbda"
      },
      "cell_type": "code",
      "outputs": [
        {
          "output_type": "stream",
          "name": "stdout",
          "text": [
            "Downloading keras-pretrained-models, 989248706 bytes compressed\n",
            "[==================================================] 989248706 bytes downloaded\n",
            "Downloaded and uncompressed: keras-pretrained-models\n",
            "Downloading fer2013, 63252113 bytes compressed\n",
            "[==================================================] 63252113 bytes downloaded\n",
            "Downloaded and uncompressed: fer2013\n",
            "Downloading emotion-detection-fer, 68327503 bytes compressed\n",
            "[==================================================] 68327503 bytes downloaded\n",
            "Downloaded and uncompressed: emotion-detection-fer\n",
            "Data source import complete.\n"
          ]
        }
      ],
      "execution_count": 21
    },
    {
      "metadata": {
        "_uuid": "8f2839f25d086af736a60e9eeb907d3b93b6e0e5",
        "_cell_guid": "b1076dfc-b9ad-4769-8c92-a6c4dae69d19",
        "trusted": true,
        "id": "-XL_mWLhoy5c"
      },
      "cell_type": "code",
      "source": [
        "import numpy as np # linear algebra\n",
        "import pandas as pd # data processing, CSV file I/O (e.g. pd.read_csv)\n",
        "import os\n",
        "#for dirname, _, filenames in os.walk('/kaggle/input'):\n",
        "    #for filename in filenames:\n",
        "        #print(os.path.join(dirname, filename))\n",
        "import matplotlib.pyplot as plt\n",
        "import seaborn as sns\n",
        "import tensorflow as tf\n",
        "import keras\n",
        "from keras.preprocessing import image\n",
        "from keras.models import Sequential\n",
        "from keras.layers import Conv2D, MaxPool2D, Flatten,Dense,Dropout,BatchNormalization\n",
        "from tensorflow.keras.preprocessing.image import ImageDataGenerator\n",
        "import cv2\n",
        "from tensorflow.keras.applications import VGG16, InceptionResNetV2\n",
        "from keras import regularizers\n",
        "from tensorflow.keras.optimizers import Adam,RMSprop,SGD,Adamax"
      ],
      "execution_count": 22,
      "outputs": []
    },
    {
      "metadata": {
        "trusted": true,
        "id": "d9uo2w3woy5d"
      },
      "cell_type": "code",
      "source": [
        "train_dir = \"../input/emotion-detection-fer/train\" #passing the path with training images\n",
        "test_dir = \"../input/emotion-detection-fer/test\"   #passing the path with testing images"
      ],
      "execution_count": 23,
      "outputs": []
    },
    {
      "metadata": {
        "trusted": true,
        "id": "YaAvslyyoy5e"
      },
      "cell_type": "code",
      "source": [
        "img_size = 48 #original size of the image"
      ],
      "execution_count": 24,
      "outputs": []
    },
    {
      "metadata": {
        "trusted": true,
        "id": "lVVDBZFQoy5e"
      },
      "cell_type": "code",
      "source": [
        "\"\"\"\n",
        "Data Augmentation\n",
        "--------------------------\n",
        "rotation_range = rotates the image with the amount of degrees we provide\n",
        "width_shift_range = shifts the image randomly to the right or left along the width of the image\n",
        "height_shift range = shifts image randomly to up or below along the height of the image\n",
        "horizontal_flip = flips the image horizontally\n",
        "rescale = to scale down the pizel values in our image between 0 and 1\n",
        "zoom_range = applies random zoom to our object\n",
        "validation_split = reserves some images to be used for validation purpose\n",
        "\"\"\"\n",
        "\n",
        "train_datagen = ImageDataGenerator(#rotation_range = 180,\n",
        "                                         width_shift_range = 0.1,\n",
        "                                         height_shift_range = 0.1,\n",
        "                                         horizontal_flip = True,\n",
        "                                         rescale = 1./255,\n",
        "                                         #zoom_range = 0.2,\n",
        "                                         validation_split = 0.2\n",
        "                                        )\n",
        "validation_datagen = ImageDataGenerator(rescale = 1./255,\n",
        "                                         validation_split = 0.2)"
      ],
      "execution_count": 25,
      "outputs": []
    },
    {
      "metadata": {
        "trusted": true,
        "colab": {
          "base_uri": "https://localhost:8080/"
        },
        "id": "FzU6MOvEoy5f",
        "outputId": "2fc6b799-3a25-4741-96a8-2fd24edcb43f"
      },
      "cell_type": "code",
      "source": [
        "\"\"\"\n",
        "Applying data augmentation to the images as we read\n",
        "them from their respectivve directories\n",
        "\"\"\"\n",
        "train_generator = train_datagen.flow_from_directory(directory = train_dir,\n",
        "                                                    target_size = (img_size,img_size),\n",
        "                                                    batch_size = 64,\n",
        "                                                    color_mode = \"grayscale\",\n",
        "                                                    class_mode = \"categorical\",\n",
        "                                                    subset = \"training\"\n",
        "                                                   )\n",
        "validation_generator = validation_datagen.flow_from_directory( directory = test_dir,\n",
        "                                                              target_size = (img_size,img_size),\n",
        "                                                              batch_size = 64,\n",
        "                                                              color_mode = \"grayscale\",\n",
        "                                                              class_mode = \"categorical\",\n",
        "                                                              subset = \"validation\"\n",
        "                                                             )"
      ],
      "execution_count": 26,
      "outputs": [
        {
          "output_type": "stream",
          "name": "stdout",
          "text": [
            "Found 22968 images belonging to 7 classes.\n",
            "Found 1432 images belonging to 7 classes.\n"
          ]
        }
      ]
    },
    {
      "metadata": {
        "trusted": true,
        "colab": {
          "base_uri": "https://localhost:8080/",
          "height": 123
        },
        "id": "8-eOaKx7oy5f",
        "outputId": "e7978734-12cb-48a3-dd25-08b3cb79db0f"
      },
      "cell_type": "code",
      "source": [
        "\"\"\"\n",
        "Modeling\n",
        "\n",
        "\n",
        "model = Sequential()\n",
        "model.add(Conv2D(filters = 64,kernel_size = (3,3),padding = 'same',activation = 'relu',input_shape=(img_size,img_size,1)))\n",
        "model.add(MaxPool2D(pool_size = 2,strides = 2))\n",
        "model.add(BatchNormalization())\n",
        "\n",
        "model.add(Conv2D(filters = 128,kernel_size = (3,3),padding = 'same',activation = 'relu'))\n",
        "model.add(MaxPool2D(pool_size = 2,strides = 2))\n",
        "model.add(BatchNormalization())\n",
        "model.add(Dropout(0.25))\n",
        "\n",
        "model.add(Conv2D(filters = 128,kernel_size = (3,3),padding = 'same',activation = 'relu'))\n",
        "model.add(MaxPool2D(pool_size = 2,strides = 2))\n",
        "model.add(BatchNormalization())\n",
        "model.add(Dropout(0.25))\n",
        "\n",
        "model.add(Conv2D(filters = 256,kernel_size = (3,3),padding = 'same',activation = 'relu'))\n",
        "model.add(MaxPool2D(pool_size = 2,strides = 2))\n",
        "model.add(BatchNormalization())\n",
        "\n",
        "model.add(Flatten())\n",
        "model.add(Dense(units = 128,activation = 'relu',kernel_initializer='he_normal'))\n",
        "model.add(Dropout(0.25))\n",
        "model.add(Dense(units = 64,activation = 'relu',kernel_initializer='he_normal'))\n",
        "model.add(BatchNormalization())\n",
        "model.add(Dropout(0.25))\n",
        "model.add(Dense(units = 32,activation = 'relu',kernel_initializer='he_normal'))\n",
        "model.add(Dense(7,activation = 'softmax'))\n",
        "\n",
        "\"\"\""
      ],
      "execution_count": 27,
      "outputs": [
        {
          "output_type": "execute_result",
          "data": {
            "text/plain": [
              "\"\\nModeling\\n\\n\\nmodel = Sequential()\\nmodel.add(Conv2D(filters = 64,kernel_size = (3,3),padding = 'same',activation = 'relu',input_shape=(img_size,img_size,1)))\\nmodel.add(MaxPool2D(pool_size = 2,strides = 2))\\nmodel.add(BatchNormalization())\\n\\nmodel.add(Conv2D(filters = 128,kernel_size = (3,3),padding = 'same',activation = 'relu'))\\nmodel.add(MaxPool2D(pool_size = 2,strides = 2))\\nmodel.add(BatchNormalization())\\nmodel.add(Dropout(0.25))\\n\\nmodel.add(Conv2D(filters = 128,kernel_size = (3,3),padding = 'same',activation = 'relu'))\\nmodel.add(MaxPool2D(pool_size = 2,strides = 2))\\nmodel.add(BatchNormalization())\\nmodel.add(Dropout(0.25))\\n\\nmodel.add(Conv2D(filters = 256,kernel_size = (3,3),padding = 'same',activation = 'relu'))\\nmodel.add(MaxPool2D(pool_size = 2,strides = 2))\\nmodel.add(BatchNormalization())\\n\\nmodel.add(Flatten())\\nmodel.add(Dense(units = 128,activation = 'relu',kernel_initializer='he_normal'))\\nmodel.add(Dropout(0.25))\\nmodel.add(Dense(units = 64,activation = 'relu',kernel_initializer='he_normal'))\\nmodel.add(BatchNormalization())\\nmodel.add(Dropout(0.25))\\nmodel.add(Dense(units = 32,activation = 'relu',kernel_initializer='he_normal'))\\nmodel.add(Dense(7,activation = 'softmax'))\\n\\n\""
            ],
            "application/vnd.google.colaboratory.intrinsic+json": {
              "type": "string"
            }
          },
          "metadata": {},
          "execution_count": 27
        }
      ]
    },
    {
      "metadata": {
        "trusted": true,
        "colab": {
          "base_uri": "https://localhost:8080/"
        },
        "id": "8wVzfRBooy5g",
        "outputId": "b8bb7ee9-c9d0-4ca7-c6cf-9eee4ac19416"
      },
      "cell_type": "code",
      "source": [
        "model= tf.keras.models.Sequential()\n",
        "model.add(Conv2D(32, kernel_size=(3, 3), padding='same', activation='relu', input_shape=(48, 48,1)))\n",
        "model.add(Conv2D(64,(3,3), padding='same', activation='relu' ))\n",
        "model.add(BatchNormalization())\n",
        "model.add(MaxPool2D(pool_size=(2, 2)))\n",
        "model.add(Dropout(0.25))\n",
        "\n",
        "model.add(Conv2D(128,(5,5), padding='same', activation='relu'))\n",
        "model.add(BatchNormalization())\n",
        "model.add(MaxPool2D(pool_size=(2, 2)))\n",
        "model.add(Dropout(0.25))\n",
        "\n",
        "model.add(Conv2D(512,(3,3), padding='same', activation='relu', kernel_regularizer=regularizers.l2(0.01)))\n",
        "model.add(BatchNormalization())\n",
        "model.add(MaxPool2D(pool_size=(2, 2)))\n",
        "model.add(Dropout(0.25))\n",
        "\n",
        "model.add(Conv2D(512,(3,3), padding='same', activation='relu', kernel_regularizer=regularizers.l2(0.01)))\n",
        "model.add(BatchNormalization())\n",
        "model.add(MaxPool2D(pool_size=(2, 2)))\n",
        "model.add(Dropout(0.25))\n",
        "\n",
        "model.add(Flatten())\n",
        "model.add(Dense(256,activation = 'relu'))\n",
        "model.add(BatchNormalization())\n",
        "model.add(Dropout(0.25))\n",
        "\n",
        "model.add(Dense(512,activation = 'relu'))\n",
        "model.add(BatchNormalization())\n",
        "model.add(Dropout(0.25))\n",
        "\n",
        "model.add(Dense(7, activation='softmax'))\n",
        "\n",
        "model.compile(\n",
        "    optimizer = Adam(lr=0.0001),\n",
        "    loss='categorical_crossentropy',\n",
        "    metrics=['accuracy']\n",
        "  )"
      ],
      "execution_count": 28,
      "outputs": [
        {
          "output_type": "stream",
          "name": "stderr",
          "text": [
            "WARNING:absl:`lr` is deprecated in Keras optimizer, please use `learning_rate` or use the legacy optimizer, e.g.,tf.keras.optimizers.legacy.Adam.\n"
          ]
        }
      ]
    },
    {
      "metadata": {
        "trusted": true,
        "id": "sfVhekuNoy5h"
      },
      "cell_type": "code",
      "source": [
        "epochs = 100\n",
        "batch_size = 32"
      ],
      "execution_count": 29,
      "outputs": []
    },
    {
      "metadata": {
        "trusted": true,
        "colab": {
          "base_uri": "https://localhost:8080/"
        },
        "id": "8WPeoFwNoy5h",
        "outputId": "9ef17acc-7c80-420d-96cc-a0d79cc660fd"
      },
      "cell_type": "code",
      "source": [
        "model.summary()"
      ],
      "execution_count": 30,
      "outputs": [
        {
          "output_type": "stream",
          "name": "stdout",
          "text": [
            "Model: \"sequential_1\"\n",
            "_________________________________________________________________\n",
            " Layer (type)                Output Shape              Param #   \n",
            "=================================================================\n",
            " conv2d_5 (Conv2D)           (None, 48, 48, 32)        320       \n",
            "                                                                 \n",
            " conv2d_6 (Conv2D)           (None, 48, 48, 64)        18496     \n",
            "                                                                 \n",
            " batch_normalization_6 (Bat  (None, 48, 48, 64)        256       \n",
            " chNormalization)                                                \n",
            "                                                                 \n",
            " max_pooling2d_4 (MaxPoolin  (None, 24, 24, 64)        0         \n",
            " g2D)                                                            \n",
            "                                                                 \n",
            " dropout_6 (Dropout)         (None, 24, 24, 64)        0         \n",
            "                                                                 \n",
            " conv2d_7 (Conv2D)           (None, 24, 24, 128)       204928    \n",
            "                                                                 \n",
            " batch_normalization_7 (Bat  (None, 24, 24, 128)       512       \n",
            " chNormalization)                                                \n",
            "                                                                 \n",
            " max_pooling2d_5 (MaxPoolin  (None, 12, 12, 128)       0         \n",
            " g2D)                                                            \n",
            "                                                                 \n",
            " dropout_7 (Dropout)         (None, 12, 12, 128)       0         \n",
            "                                                                 \n",
            " conv2d_8 (Conv2D)           (None, 12, 12, 512)       590336    \n",
            "                                                                 \n",
            " batch_normalization_8 (Bat  (None, 12, 12, 512)       2048      \n",
            " chNormalization)                                                \n",
            "                                                                 \n",
            " max_pooling2d_6 (MaxPoolin  (None, 6, 6, 512)         0         \n",
            " g2D)                                                            \n",
            "                                                                 \n",
            " dropout_8 (Dropout)         (None, 6, 6, 512)         0         \n",
            "                                                                 \n",
            " conv2d_9 (Conv2D)           (None, 6, 6, 512)         2359808   \n",
            "                                                                 \n",
            " batch_normalization_9 (Bat  (None, 6, 6, 512)         2048      \n",
            " chNormalization)                                                \n",
            "                                                                 \n",
            " max_pooling2d_7 (MaxPoolin  (None, 3, 3, 512)         0         \n",
            " g2D)                                                            \n",
            "                                                                 \n",
            " dropout_9 (Dropout)         (None, 3, 3, 512)         0         \n",
            "                                                                 \n",
            " flatten_1 (Flatten)         (None, 4608)              0         \n",
            "                                                                 \n",
            " dense_3 (Dense)             (None, 256)               1179904   \n",
            "                                                                 \n",
            " batch_normalization_10 (Ba  (None, 256)               1024      \n",
            " tchNormalization)                                               \n",
            "                                                                 \n",
            " dropout_10 (Dropout)        (None, 256)               0         \n",
            "                                                                 \n",
            " dense_4 (Dense)             (None, 512)               131584    \n",
            "                                                                 \n",
            " batch_normalization_11 (Ba  (None, 512)               2048      \n",
            " tchNormalization)                                               \n",
            "                                                                 \n",
            " dropout_11 (Dropout)        (None, 512)               0         \n",
            "                                                                 \n",
            " dense_5 (Dense)             (None, 7)                 3591      \n",
            "                                                                 \n",
            "=================================================================\n",
            "Total params: 4496903 (17.15 MB)\n",
            "Trainable params: 4492935 (17.14 MB)\n",
            "Non-trainable params: 3968 (15.50 KB)\n",
            "_________________________________________________________________\n"
          ]
        }
      ]
    },
    {
      "metadata": {
        "trusted": true,
        "colab": {
          "base_uri": "https://localhost:8080/"
        },
        "id": "nb768Faooy5h",
        "outputId": "d2241c43-5595-4295-f7dd-2b1d78b632e0"
      },
      "cell_type": "code",
      "source": [
        "history = model.fit(x = train_generator,epochs = epochs,validation_data = validation_generator)"
      ],
      "execution_count": 31,
      "outputs": [
        {
          "output_type": "stream",
          "name": "stdout",
          "text": [
            "Epoch 1/100\n",
            "359/359 [==============================] - 29s 68ms/step - loss: 5.2911 - accuracy: 0.2292 - val_loss: 3.0345 - val_accuracy: 0.1718\n",
            "Epoch 2/100\n",
            "359/359 [==============================] - 25s 70ms/step - loss: 2.3977 - accuracy: 0.3294 - val_loss: 3.7039 - val_accuracy: 0.1851\n",
            "Epoch 3/100\n",
            "359/359 [==============================] - 24s 67ms/step - loss: 2.2659 - accuracy: 0.4050 - val_loss: 2.2262 - val_accuracy: 0.4337\n",
            "Epoch 4/100\n",
            "359/359 [==============================] - 25s 69ms/step - loss: 2.2936 - accuracy: 0.4519 - val_loss: 2.2825 - val_accuracy: 0.4441\n",
            "Epoch 5/100\n",
            "359/359 [==============================] - 24s 67ms/step - loss: 2.2124 - accuracy: 0.4814 - val_loss: 2.3009 - val_accuracy: 0.4770\n",
            "Epoch 6/100\n",
            "359/359 [==============================] - 24s 67ms/step - loss: 2.1344 - accuracy: 0.4927 - val_loss: 2.2068 - val_accuracy: 0.4825\n",
            "Epoch 7/100\n",
            "359/359 [==============================] - 23s 65ms/step - loss: 2.0963 - accuracy: 0.5056 - val_loss: 2.0384 - val_accuracy: 0.5182\n",
            "Epoch 8/100\n",
            "359/359 [==============================] - 23s 64ms/step - loss: 2.1062 - accuracy: 0.5063 - val_loss: 2.0904 - val_accuracy: 0.5175\n",
            "Epoch 9/100\n",
            "359/359 [==============================] - 24s 68ms/step - loss: 2.0270 - accuracy: 0.5144 - val_loss: 2.0353 - val_accuracy: 0.5391\n",
            "Epoch 10/100\n",
            "359/359 [==============================] - 23s 63ms/step - loss: 2.0333 - accuracy: 0.5170 - val_loss: 2.0520 - val_accuracy: 0.5265\n",
            "Epoch 11/100\n",
            "359/359 [==============================] - 23s 64ms/step - loss: 2.0197 - accuracy: 0.5280 - val_loss: 2.0465 - val_accuracy: 0.5251\n",
            "Epoch 12/100\n",
            "359/359 [==============================] - 23s 63ms/step - loss: 1.9895 - accuracy: 0.5261 - val_loss: 1.9456 - val_accuracy: 0.5307\n",
            "Epoch 13/100\n",
            "359/359 [==============================] - 23s 64ms/step - loss: 1.9940 - accuracy: 0.5364 - val_loss: 1.8116 - val_accuracy: 0.5775\n",
            "Epoch 14/100\n",
            "359/359 [==============================] - 23s 65ms/step - loss: 1.9420 - accuracy: 0.5366 - val_loss: 1.9695 - val_accuracy: 0.5293\n",
            "Epoch 15/100\n",
            "359/359 [==============================] - 23s 63ms/step - loss: 1.9686 - accuracy: 0.5375 - val_loss: 1.8157 - val_accuracy: 0.5601\n",
            "Epoch 16/100\n",
            "359/359 [==============================] - 23s 64ms/step - loss: 1.8825 - accuracy: 0.5418 - val_loss: 1.9814 - val_accuracy: 0.5384\n",
            "Epoch 17/100\n",
            "359/359 [==============================] - 23s 63ms/step - loss: 1.9076 - accuracy: 0.5461 - val_loss: 1.9315 - val_accuracy: 0.5077\n",
            "Epoch 18/100\n",
            "359/359 [==============================] - 23s 63ms/step - loss: 1.9069 - accuracy: 0.5499 - val_loss: 1.9232 - val_accuracy: 0.5635\n",
            "Epoch 19/100\n",
            "359/359 [==============================] - 23s 64ms/step - loss: 1.8284 - accuracy: 0.5527 - val_loss: 1.7471 - val_accuracy: 0.5873\n",
            "Epoch 20/100\n",
            "359/359 [==============================] - 22s 62ms/step - loss: 1.8409 - accuracy: 0.5555 - val_loss: 1.7634 - val_accuracy: 0.5622\n",
            "Epoch 21/100\n",
            "359/359 [==============================] - 22s 62ms/step - loss: 1.7353 - accuracy: 0.5595 - val_loss: 1.8080 - val_accuracy: 0.5510\n",
            "Epoch 22/100\n",
            "359/359 [==============================] - 23s 63ms/step - loss: 1.7454 - accuracy: 0.5607 - val_loss: 1.7172 - val_accuracy: 0.5517\n",
            "Epoch 23/100\n",
            "359/359 [==============================] - 23s 63ms/step - loss: 1.7889 - accuracy: 0.5610 - val_loss: 1.9717 - val_accuracy: 0.5670\n",
            "Epoch 24/100\n",
            "359/359 [==============================] - 22s 60ms/step - loss: 1.6770 - accuracy: 0.5651 - val_loss: 1.7054 - val_accuracy: 0.5468\n",
            "Epoch 25/100\n",
            "359/359 [==============================] - 23s 64ms/step - loss: 1.6806 - accuracy: 0.5698 - val_loss: 1.6733 - val_accuracy: 0.5915\n",
            "Epoch 26/100\n",
            "359/359 [==============================] - 23s 63ms/step - loss: 1.6647 - accuracy: 0.5664 - val_loss: 1.5774 - val_accuracy: 0.5880\n",
            "Epoch 27/100\n",
            "359/359 [==============================] - 22s 60ms/step - loss: 1.6551 - accuracy: 0.5697 - val_loss: 1.6066 - val_accuracy: 0.5782\n",
            "Epoch 28/100\n",
            "359/359 [==============================] - 23s 65ms/step - loss: 1.6375 - accuracy: 0.5691 - val_loss: 1.6220 - val_accuracy: 0.5545\n",
            "Epoch 29/100\n",
            "359/359 [==============================] - 22s 62ms/step - loss: 1.6488 - accuracy: 0.5755 - val_loss: 1.6504 - val_accuracy: 0.5866\n",
            "Epoch 30/100\n",
            "359/359 [==============================] - 22s 62ms/step - loss: 1.6745 - accuracy: 0.5706 - val_loss: 1.5621 - val_accuracy: 0.5999\n",
            "Epoch 31/100\n",
            "359/359 [==============================] - 22s 62ms/step - loss: 1.5515 - accuracy: 0.5768 - val_loss: 1.5238 - val_accuracy: 0.5873\n",
            "Epoch 32/100\n",
            "359/359 [==============================] - 22s 62ms/step - loss: 1.5670 - accuracy: 0.5760 - val_loss: 1.4701 - val_accuracy: 0.5957\n",
            "Epoch 33/100\n",
            "359/359 [==============================] - 22s 60ms/step - loss: 1.5488 - accuracy: 0.5775 - val_loss: 1.5203 - val_accuracy: 0.5740\n",
            "Epoch 34/100\n",
            "359/359 [==============================] - 23s 63ms/step - loss: 1.5168 - accuracy: 0.5838 - val_loss: 1.4244 - val_accuracy: 0.6187\n",
            "Epoch 35/100\n",
            "359/359 [==============================] - 22s 62ms/step - loss: 1.5167 - accuracy: 0.5806 - val_loss: 1.4791 - val_accuracy: 0.6047\n",
            "Epoch 36/100\n",
            "359/359 [==============================] - 23s 64ms/step - loss: 1.5288 - accuracy: 0.5857 - val_loss: 1.4697 - val_accuracy: 0.6089\n",
            "Epoch 37/100\n",
            "359/359 [==============================] - 22s 60ms/step - loss: 1.5458 - accuracy: 0.5813 - val_loss: 1.5690 - val_accuracy: 0.6020\n",
            "Epoch 38/100\n",
            "359/359 [==============================] - 21s 59ms/step - loss: 1.5671 - accuracy: 0.5876 - val_loss: 1.6148 - val_accuracy: 0.5642\n",
            "Epoch 39/100\n",
            "359/359 [==============================] - 21s 58ms/step - loss: 1.4854 - accuracy: 0.5887 - val_loss: 1.4363 - val_accuracy: 0.6041\n",
            "Epoch 40/100\n",
            "359/359 [==============================] - 21s 60ms/step - loss: 1.4815 - accuracy: 0.5955 - val_loss: 1.5131 - val_accuracy: 0.6054\n",
            "Epoch 41/100\n",
            "359/359 [==============================] - 21s 58ms/step - loss: 1.5466 - accuracy: 0.5937 - val_loss: 1.5181 - val_accuracy: 0.6047\n",
            "Epoch 42/100\n",
            "359/359 [==============================] - 21s 59ms/step - loss: 1.4922 - accuracy: 0.5919 - val_loss: 1.4399 - val_accuracy: 0.6034\n",
            "Epoch 43/100\n",
            "359/359 [==============================] - 21s 58ms/step - loss: 1.4654 - accuracy: 0.5940 - val_loss: 1.5056 - val_accuracy: 0.5789\n",
            "Epoch 44/100\n",
            "359/359 [==============================] - 21s 59ms/step - loss: 1.4617 - accuracy: 0.5954 - val_loss: 1.4551 - val_accuracy: 0.6054\n",
            "Epoch 45/100\n",
            "359/359 [==============================] - 22s 62ms/step - loss: 1.4769 - accuracy: 0.5933 - val_loss: 1.4672 - val_accuracy: 0.5838\n",
            "Epoch 46/100\n",
            "359/359 [==============================] - 21s 60ms/step - loss: 1.4675 - accuracy: 0.5886 - val_loss: 1.4698 - val_accuracy: 0.5908\n",
            "Epoch 47/100\n",
            "359/359 [==============================] - 21s 60ms/step - loss: 1.4740 - accuracy: 0.5920 - val_loss: 1.4378 - val_accuracy: 0.6096\n",
            "Epoch 48/100\n",
            "359/359 [==============================] - 21s 59ms/step - loss: 1.4548 - accuracy: 0.5967 - val_loss: 1.4485 - val_accuracy: 0.5985\n",
            "Epoch 49/100\n",
            "359/359 [==============================] - 21s 60ms/step - loss: 1.4249 - accuracy: 0.5966 - val_loss: 1.4663 - val_accuracy: 0.5971\n",
            "Epoch 50/100\n",
            "359/359 [==============================] - 21s 58ms/step - loss: 1.4442 - accuracy: 0.6027 - val_loss: 1.4431 - val_accuracy: 0.5901\n",
            "Epoch 51/100\n",
            "359/359 [==============================] - 21s 59ms/step - loss: 1.4355 - accuracy: 0.6014 - val_loss: 1.4551 - val_accuracy: 0.5908\n",
            "Epoch 52/100\n",
            "359/359 [==============================] - 22s 60ms/step - loss: 1.4387 - accuracy: 0.6007 - val_loss: 1.4223 - val_accuracy: 0.6075\n",
            "Epoch 53/100\n",
            "359/359 [==============================] - 21s 60ms/step - loss: 1.4762 - accuracy: 0.5991 - val_loss: 1.4397 - val_accuracy: 0.5859\n",
            "Epoch 54/100\n",
            "359/359 [==============================] - 21s 60ms/step - loss: 1.4036 - accuracy: 0.6034 - val_loss: 1.4071 - val_accuracy: 0.6089\n",
            "Epoch 55/100\n",
            "359/359 [==============================] - 23s 63ms/step - loss: 1.3921 - accuracy: 0.6068 - val_loss: 1.3859 - val_accuracy: 0.6054\n",
            "Epoch 56/100\n",
            "359/359 [==============================] - 22s 60ms/step - loss: 1.4231 - accuracy: 0.6037 - val_loss: 1.4051 - val_accuracy: 0.5992\n",
            "Epoch 57/100\n",
            "359/359 [==============================] - 21s 58ms/step - loss: 1.4057 - accuracy: 0.6059 - val_loss: 1.4163 - val_accuracy: 0.6082\n",
            "Epoch 58/100\n",
            "359/359 [==============================] - 22s 60ms/step - loss: 1.3945 - accuracy: 0.6032 - val_loss: 1.3701 - val_accuracy: 0.6103\n",
            "Epoch 59/100\n",
            "359/359 [==============================] - 22s 61ms/step - loss: 1.3984 - accuracy: 0.6065 - val_loss: 1.3992 - val_accuracy: 0.6096\n",
            "Epoch 60/100\n",
            "359/359 [==============================] - 21s 57ms/step - loss: 1.4060 - accuracy: 0.6103 - val_loss: 1.4091 - val_accuracy: 0.6006\n",
            "Epoch 61/100\n",
            "359/359 [==============================] - 22s 60ms/step - loss: 1.3954 - accuracy: 0.6091 - val_loss: 1.3800 - val_accuracy: 0.6194\n",
            "Epoch 62/100\n",
            "359/359 [==============================] - 21s 59ms/step - loss: 1.3708 - accuracy: 0.6116 - val_loss: 1.3497 - val_accuracy: 0.6187\n",
            "Epoch 63/100\n",
            "359/359 [==============================] - 21s 58ms/step - loss: 1.3661 - accuracy: 0.6113 - val_loss: 1.4237 - val_accuracy: 0.6075\n",
            "Epoch 64/100\n",
            "359/359 [==============================] - 22s 60ms/step - loss: 1.3719 - accuracy: 0.6149 - val_loss: 1.4281 - val_accuracy: 0.6041\n",
            "Epoch 65/100\n",
            "359/359 [==============================] - 21s 59ms/step - loss: 1.3771 - accuracy: 0.6100 - val_loss: 1.3745 - val_accuracy: 0.6103\n",
            "Epoch 66/100\n",
            "359/359 [==============================] - 21s 58ms/step - loss: 1.4050 - accuracy: 0.6087 - val_loss: 1.4340 - val_accuracy: 0.5803\n",
            "Epoch 67/100\n",
            "359/359 [==============================] - 21s 60ms/step - loss: 1.3778 - accuracy: 0.6098 - val_loss: 1.4060 - val_accuracy: 0.6152\n",
            "Epoch 68/100\n",
            "359/359 [==============================] - 21s 60ms/step - loss: 1.3862 - accuracy: 0.6115 - val_loss: 1.4503 - val_accuracy: 0.5845\n",
            "Epoch 69/100\n",
            "359/359 [==============================] - 21s 57ms/step - loss: 1.3748 - accuracy: 0.6155 - val_loss: 1.4022 - val_accuracy: 0.6013\n",
            "Epoch 70/100\n",
            "359/359 [==============================] - 22s 60ms/step - loss: 1.3518 - accuracy: 0.6134 - val_loss: 1.3642 - val_accuracy: 0.6096\n",
            "Epoch 71/100\n",
            "359/359 [==============================] - 21s 59ms/step - loss: 1.3396 - accuracy: 0.6155 - val_loss: 1.4234 - val_accuracy: 0.5894\n",
            "Epoch 72/100\n",
            "359/359 [==============================] - 23s 63ms/step - loss: 1.3605 - accuracy: 0.6167 - val_loss: 1.4064 - val_accuracy: 0.6027\n",
            "Epoch 73/100\n",
            "359/359 [==============================] - 21s 58ms/step - loss: 1.3610 - accuracy: 0.6140 - val_loss: 1.4233 - val_accuracy: 0.5901\n",
            "Epoch 74/100\n",
            "359/359 [==============================] - 22s 60ms/step - loss: 1.3740 - accuracy: 0.6139 - val_loss: 1.3609 - val_accuracy: 0.6187\n",
            "Epoch 75/100\n",
            "359/359 [==============================] - 23s 63ms/step - loss: 1.3386 - accuracy: 0.6172 - val_loss: 1.3608 - val_accuracy: 0.6222\n",
            "Epoch 76/100\n",
            "359/359 [==============================] - 21s 59ms/step - loss: 1.3308 - accuracy: 0.6182 - val_loss: 1.3510 - val_accuracy: 0.6152\n",
            "Epoch 77/100\n",
            "359/359 [==============================] - 22s 60ms/step - loss: 1.3351 - accuracy: 0.6182 - val_loss: 1.3907 - val_accuracy: 0.5964\n",
            "Epoch 78/100\n",
            "359/359 [==============================] - 21s 59ms/step - loss: 1.3265 - accuracy: 0.6205 - val_loss: 1.3159 - val_accuracy: 0.6222\n",
            "Epoch 79/100\n",
            "359/359 [==============================] - 22s 61ms/step - loss: 1.3310 - accuracy: 0.6188 - val_loss: 1.3325 - val_accuracy: 0.6152\n",
            "Epoch 80/100\n",
            "359/359 [==============================] - 22s 61ms/step - loss: 1.3150 - accuracy: 0.6184 - val_loss: 1.3568 - val_accuracy: 0.6020\n",
            "Epoch 81/100\n",
            "359/359 [==============================] - 22s 60ms/step - loss: 1.3308 - accuracy: 0.6219 - val_loss: 1.3593 - val_accuracy: 0.6047\n",
            "Epoch 82/100\n",
            "359/359 [==============================] - 22s 60ms/step - loss: 1.3122 - accuracy: 0.6224 - val_loss: 1.3528 - val_accuracy: 0.6222\n",
            "Epoch 83/100\n",
            "359/359 [==============================] - 22s 61ms/step - loss: 1.3212 - accuracy: 0.6232 - val_loss: 1.3313 - val_accuracy: 0.6215\n",
            "Epoch 84/100\n",
            "359/359 [==============================] - 21s 58ms/step - loss: 1.3277 - accuracy: 0.6245 - val_loss: 1.3624 - val_accuracy: 0.6124\n",
            "Epoch 85/100\n",
            "359/359 [==============================] - 22s 61ms/step - loss: 1.3219 - accuracy: 0.6247 - val_loss: 1.3893 - val_accuracy: 0.6054\n",
            "Epoch 86/100\n",
            "359/359 [==============================] - 21s 59ms/step - loss: 1.3140 - accuracy: 0.6207 - val_loss: 1.3117 - val_accuracy: 0.6173\n",
            "Epoch 87/100\n",
            "359/359 [==============================] - 21s 58ms/step - loss: 1.3037 - accuracy: 0.6243 - val_loss: 1.3190 - val_accuracy: 0.6285\n",
            "Epoch 88/100\n",
            "359/359 [==============================] - 22s 60ms/step - loss: 1.3634 - accuracy: 0.6208 - val_loss: 1.4043 - val_accuracy: 0.6236\n",
            "Epoch 89/100\n",
            "359/359 [==============================] - 21s 59ms/step - loss: 1.3461 - accuracy: 0.6196 - val_loss: 1.3289 - val_accuracy: 0.6250\n",
            "Epoch 90/100\n",
            "359/359 [==============================] - 21s 60ms/step - loss: 1.3017 - accuracy: 0.6222 - val_loss: 1.3576 - val_accuracy: 0.6152\n",
            "Epoch 91/100\n",
            "359/359 [==============================] - 22s 61ms/step - loss: 1.3101 - accuracy: 0.6252 - val_loss: 1.3475 - val_accuracy: 0.6145\n",
            "Epoch 92/100\n",
            "359/359 [==============================] - 22s 62ms/step - loss: 1.2905 - accuracy: 0.6266 - val_loss: 1.3480 - val_accuracy: 0.6110\n",
            "Epoch 93/100\n",
            "359/359 [==============================] - 21s 59ms/step - loss: 1.2937 - accuracy: 0.6277 - val_loss: 1.3452 - val_accuracy: 0.6152\n",
            "Epoch 94/100\n",
            "359/359 [==============================] - 23s 63ms/step - loss: 1.2958 - accuracy: 0.6277 - val_loss: 1.3403 - val_accuracy: 0.6173\n",
            "Epoch 95/100\n",
            "359/359 [==============================] - 21s 60ms/step - loss: 1.2777 - accuracy: 0.6300 - val_loss: 1.3390 - val_accuracy: 0.6110\n",
            "Epoch 96/100\n",
            "359/359 [==============================] - 21s 58ms/step - loss: 1.2890 - accuracy: 0.6263 - val_loss: 1.3169 - val_accuracy: 0.6243\n",
            "Epoch 97/100\n",
            "359/359 [==============================] - 22s 60ms/step - loss: 1.2801 - accuracy: 0.6304 - val_loss: 1.3297 - val_accuracy: 0.6229\n",
            "Epoch 98/100\n",
            "359/359 [==============================] - 21s 60ms/step - loss: 1.2892 - accuracy: 0.6325 - val_loss: 1.3043 - val_accuracy: 0.6222\n",
            "Epoch 99/100\n",
            "359/359 [==============================] - 21s 59ms/step - loss: 1.3060 - accuracy: 0.6314 - val_loss: 1.3294 - val_accuracy: 0.6355\n",
            "Epoch 100/100\n",
            "359/359 [==============================] - 22s 60ms/step - loss: 1.2907 - accuracy: 0.6304 - val_loss: 1.3166 - val_accuracy: 0.6180\n"
          ]
        }
      ]
    },
    {
      "metadata": {
        "trusted": true,
        "colab": {
          "base_uri": "https://localhost:8080/",
          "height": 410
        },
        "id": "tSnpF90ioy5i",
        "outputId": "f7ada6f3-e701-4a47-e360-e52459671f02"
      },
      "cell_type": "code",
      "source": [
        "fig , ax = plt.subplots(1,2)\n",
        "train_acc = history.history['accuracy']\n",
        "train_loss = history.history['loss']\n",
        "fig.set_size_inches(12,4)\n",
        "\n",
        "ax[0].plot(history.history['accuracy'])\n",
        "ax[0].plot(history.history['val_accuracy'])\n",
        "ax[0].set_title('Training Accuracy vs Validation Accuracy')\n",
        "ax[0].set_ylabel('Accuracy')\n",
        "ax[0].set_xlabel('Epoch')\n",
        "ax[0].legend(['Train', 'Validation'], loc='upper left')\n",
        "\n",
        "ax[1].plot(history.history['loss'])\n",
        "ax[1].plot(history.history['val_loss'])\n",
        "ax[1].set_title('Training Loss vs Validation Loss')\n",
        "ax[1].set_ylabel('Loss')\n",
        "ax[1].set_xlabel('Epoch')\n",
        "ax[1].legend(['Train', 'Validation'], loc='upper left')\n",
        "\n",
        "plt.show()"
      ],
      "execution_count": 32,
      "outputs": [
        {
          "output_type": "display_data",
          "data": {
            "text/plain": [
              "<Figure size 1200x400 with 2 Axes>"
            ],
            "image/png": "[encoded data removed]"
          },
          "metadata": {}
        }
      ]
    },
    {
      "metadata": {
        "trusted": true,
        "id": "75AVd-O0oy5i"
      },
      "cell_type": "code",
      "source": [
        "model.save('model_optimal.h5')"
      ],
      "execution_count": 33,
      "outputs": []
    },
    {
      "metadata": {
        "trusted": true,
        "colab": {
          "base_uri": "https://localhost:8080/",
          "height": 448
        },
        "id": "txe6Qi4Soy5i",
        "outputId": "39921941-6448-4b0c-b296-10ff9c5197e7"
      },
      "cell_type": "code",
      "source": [
        "img = image.load_img(\"../input/emotion-detection-fer/test/happy/im1021.png\",target_size = (48,48),color_mode = \"grayscale\")\n",
        "img = np.array(img)\n",
        "plt.imshow(img)\n",
        "print(img.shape) #prints (48,48) that is the shape of our image"
      ],
      "execution_count": 34,
      "outputs": [
        {
          "output_type": "stream",
          "name": "stdout",
          "text": [
            "(48, 48)\n"
          ]
        },
        {
          "output_type": "display_data",
          "data": {
            "text/plain": [
              "<Figure size 640x480 with 1 Axes>"
            ],
            "image/png": "[encoded data removed]"
          },
          "metadata": {}
        }
      ]
    },
    {
      "metadata": {
        "trusted": true,
        "id": "geik4Loxoy5i"
      },
      "cell_type": "code",
      "source": [
        "label_dict = {0:'Angry',1:'Disgust',2:'Fear',3:'Happy',4:'Neutral',5:'Sad',6:'Surprise'}"
      ],
      "execution_count": 35,
      "outputs": []
    },
    {
      "metadata": {
        "trusted": true,
        "colab": {
          "base_uri": "https://localhost:8080/"
        },
        "id": "rMVSb3Lxoy5i",
        "outputId": "d8346ed1-8d75-4c8f-c957-1c6cf5dc09ab"
      },
      "cell_type": "code",
      "source": [
        "img = np.expand_dims(img,axis = 0) #makes image shape (1,48,48)\n",
        "img = img.reshape(1,48,48,1)\n",
        "result = model.predict(img)\n",
        "result = list(result[0])\n",
        "print(result)"
      ],
      "execution_count": 36,
      "outputs": [
        {
          "output_type": "stream",
          "name": "stdout",
          "text": [
            "1/1 [==============================] - 0s 264ms/step\n",
            "[1.0, 0.0, 0.0, 0.0, 0.0, 0.0, 0.0]\n"
          ]
        }
      ]
    },
    {
      "metadata": {
        "trusted": true,
        "colab": {
          "base_uri": "https://localhost:8080/"
        },
        "id": "23vnaJ4Poy5j",
        "outputId": "ab7a9d30-5868-4120-a2ee-4318c8892c87"
      },
      "cell_type": "code",
      "source": [
        "img_index = result.index(max(result))\n",
        "print(label_dict[img_index])\n",
        "plt.show()"
      ],
      "execution_count": 37,
      "outputs": [
        {
          "output_type": "stream",
          "name": "stdout",
          "text": [
            "Angry\n"
          ]
        }
      ]
    },
    {
      "metadata": {
        "trusted": true,
        "colab": {
          "base_uri": "https://localhost:8080/"
        },
        "id": "Vrf0fCiwoy5j",
        "outputId": "5535ecdb-5dee-424a-d76a-d9cfac80bf36"
      },
      "cell_type": "code",
      "source": [
        "train_loss, train_acc = model.evaluate(train_generator)\n",
        "test_loss, test_acc   = model.evaluate(validation_generator)\n",
        "print(\"final train accuracy = {:.2f} , validation accuracy = {:.2f}\".format(train_acc*100, test_acc*100))"
      ],
      "execution_count": 38,
      "outputs": [
        {
          "output_type": "stream",
          "name": "stdout",
          "text": [
            "359/359 [==============================] - 18s 49ms/step - loss: 1.1922 - accuracy: 0.6682\n",
            "23/23 [==============================] - 1s 21ms/step - loss: 1.3166 - accuracy: 0.6180\n",
            "final train accuracy = 66.82 , validation accuracy = 61.80\n"
          ]
        }
      ]
    },
    {
      "metadata": {
        "trusted": true,
        "id": "sRFrNvavoy5j"
      },
      "cell_type": "code",
      "source": [
        "model.save_weights('model_weights.h5')"
      ],
      "execution_count": 39,
      "outputs": []
    },
    {
      "metadata": {
        "trusted": true,
        "id": "BZvjSlGLoy5j"
      },
      "cell_type": "code",
      "source": [],
      "execution_count": 39,
      "outputs": []
    }
  ],
  "metadata": {
    "kernelspec": {
      "display_name": "Python 3",
      "name": "python3"
    },
    "language_info": {
      "pygments_lexer": "ipython3",
      "nbconvert_exporter": "python",
      "version": "3.6.4",
      "file_extension": ".py",
      "codemirror_mode": {
        "name": "ipython",
        "version": 3
      },
      "name": "python",
      "mimetype": "text/x-python"
    },
    "colab": {
      "name": "notebookabf519b607",
      "provenance": [],
      "gpuType": "T4",
      "include_colab_link": true
    },
    "accelerator": "GPU"
  },
  "nbformat": 4,
  "nbformat_minor": 0
}