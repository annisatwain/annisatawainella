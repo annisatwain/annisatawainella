{
  "cells": [
    {
      "cell_type": "markdown",
      "metadata": {
        "id": "view-in-github",
        "colab_type": "text"
      },
      "source": [
        "<a href=\"https://colab.research.google.com/github/annisatwain/annisatawainella/blob/main/annisatawainella/TugasDLTM4/epoch50.ipynb\" target=\"_parent\"><img src=\"https://colab.research.google.com/assets/colab-badge.svg\" alt=\"Open In Colab\"/></a>"
      ]
    },
    {
      "source": [
        "\n",
        "# IMPORTANT: RUN THIS CELL IN ORDER TO IMPORT YOUR KAGGLE DATA SOURCES\n",
        "# TO THE CORRECT LOCATION (/kaggle/input) IN YOUR NOTEBOOK,\n",
        "# THEN FEEL FREE TO DELETE THIS CELL.\n",
        "# NOTE: THIS NOTEBOOK ENVIRONMENT DIFFERS FROM KAGGLE'S PYTHON\n",
        "# ENVIRONMENT SO THERE MAY BE MISSING LIBRARIES USED BY YOUR\n",
        "# NOTEBOOK.\n",
        "\n",
        "import os\n",
        "import sys\n",
        "from tempfile import NamedTemporaryFile\n",
        "from urllib.request import urlopen\n",
        "from urllib.parse import unquote, urlparse\n",
        "from urllib.error import HTTPError\n",
        "from zipfile import ZipFile\n",
        "import tarfile\n",
        "import shutil\n",
        "\n",
        "CHUNK_SIZE = 40960\n",
        "DATA_SOURCE_MAPPING = 'keras-pretrained-models:https%3A%2F%2Fstorage.googleapis.com%2Fkaggle-data-sets%2F2798%2F7251%2Fbundle%2Farchive.zip%3FX-Goog-Algorithm%3DGOOG4-RSA-SHA256%26X-Goog-Credential%3Dgcp-kaggle-com%2540kaggle-161607.iam.gserviceaccount.com%252F20240502%252Fauto%252Fstorage%252Fgoog4_request%26X-Goog-Date%3D20240502T044927Z%26X-Goog-Expires%3D259200%26X-Goog-SignedHeaders%3Dhost%26X-Goog-Signature%3D5b67846f17208601835c2f344a11f2fd2302efd873922fb40a6d02851cd4dda8b983aa77bea3d1c24826aa3d67767fe23a66ec248427085ffe4bc4b585c5c893decab62f7f5319db3e1a29036bac16bb748db9f02fca39b2e3b8ae059c80469a78de3048af650e8cabdacde0f9c93031967eea2af1cbcffc3ae3516db2fe7d61c62a9b91b2f692be80bf584fef61d590f217417d0ba171ddc5e27ae099b7bfc2d402fc2580d8b53f0d787778934548d58630d611ceca63e02cc2b12b9a55db08b84bbcab82442c3dd20e52b1a5812940292ec5012622f7543112041a2e4cfbc7abf58ba982088dbca339f0e1e4047ce53823baacaa987df82d6c29a2d142e641,fer2013:https%3A%2F%2Fstorage.googleapis.com%2Fkaggle-data-sets%2F786787%2F1351797%2Fbundle%2Farchive.zip%3FX-Goog-Algorithm%3DGOOG4-RSA-SHA256%26X-Goog-Credential%3Dgcp-kaggle-com%2540kaggle-161607.iam.gserviceaccount.com%252F20240502%252Fauto%252Fstorage%252Fgoog4_request%26X-Goog-Date%3D20240502T044927Z%26X-Goog-Expires%3D259200%26X-Goog-SignedHeaders%3Dhost%26X-Goog-Signature%3D333ce5ea383c1ad6ad4b49e67046e95c4e96f6550d337f064097b5fcbc93773adb22d4ed226e17cf98119c78bdb3acd7a21ae6ff47e7aad6b61f6326de630d451f49a1f208cc624b412687d52e1018d7110e89b13b184e8ab86cb1b1c8c12ad04ff2ab71b405c636bb8ab44162e5d05effebb1adcbc7b13361db060b85a2b4ea51f3e70078b4e21ba512f91d4e79d9096ef7b16f88a68159cf9f0d202582ff63ed05620c4b4dcd404010bf8377f1175ac97df310c6a031f7642f04673c60e0403001bb028fe027cce85f7ea6e44b469f4b658305f45c824f9ce55b87d252c48293c91624f497f192000659098ab5da7239b274d6be777a6d37a81e4edf50389a,emotion-detection-fer:https%3A%2F%2Fstorage.googleapis.com%2Fkaggle-data-sets%2F1028436%2F1732825%2Fbundle%2Farchive.zip%3FX-Goog-Algorithm%3DGOOG4-RSA-SHA256%26X-Goog-Credential%3Dgcp-kaggle-com%2540kaggle-161607.iam.gserviceaccount.com%252F20240502%252Fauto%252Fstorage%252Fgoog4_request%26X-Goog-Date%3D20240502T044928Z%26X-Goog-Expires%3D259200%26X-Goog-SignedHeaders%3Dhost%26X-Goog-Signature%3D796d0c278293e499148979340b21d2dc4c2fc90140f2f631af30ecf85f3fdd4167ea93e9972659cb7c2218d31104aced4a1c36dab5be26559ffc1178b7a6d49b63fffceab4e8ec62f650d01b9a3a91c3a984abc3cf323234f76a377d42fa3549378436c6576c0735ad0f7b65518bd800ff3132c40734cf267e2534f718229a2967f96a12e48f41b31e93b7d16b1fbd54eb36ae38899673e2e251045f71f3d0cba647077240c420ebbe44582053ff21e91985d1e1727698dc50d2e4a1ec338d4d93dc6727d97ed71227e66aa57090ee952c3aa339e5c365d0b53a973ba0e5b1e3dc49d43a1a8fc190d7fa5bc05c6402c488bdeff37d2e77f6ce4a3978fb1c98ef'\n",
        "\n",
        "KAGGLE_INPUT_PATH='/kaggle/input'\n",
        "KAGGLE_WORKING_PATH='/kaggle/working'\n",
        "KAGGLE_SYMLINK='kaggle'\n",
        "\n",
        "!umount /kaggle/input/ 2> /dev/null\n",
        "shutil.rmtree('/kaggle/input', ignore_errors=True)\n",
        "os.makedirs(KAGGLE_INPUT_PATH, 0o777, exist_ok=True)\n",
        "os.makedirs(KAGGLE_WORKING_PATH, 0o777, exist_ok=True)\n",
        "\n",
        "try:\n",
        "  os.symlink(KAGGLE_INPUT_PATH, os.path.join(\"..\", 'input'), target_is_directory=True)\n",
        "except FileExistsError:\n",
        "  pass\n",
        "try:\n",
        "  os.symlink(KAGGLE_WORKING_PATH, os.path.join(\"..\", 'working'), target_is_directory=True)\n",
        "except FileExistsError:\n",
        "  pass\n",
        "\n",
        "for data_source_mapping in DATA_SOURCE_MAPPING.split(','):\n",
        "    directory, download_url_encoded = data_source_mapping.split(':')\n",
        "    download_url = unquote(download_url_encoded)\n",
        "    filename = urlparse(download_url).path\n",
        "    destination_path = os.path.join(KAGGLE_INPUT_PATH, directory)\n",
        "    try:\n",
        "        with urlopen(download_url) as fileres, NamedTemporaryFile() as tfile:\n",
        "            total_length = fileres.headers['content-length']\n",
        "            print(f'Downloading {directory}, {total_length} bytes compressed')\n",
        "            dl = 0\n",
        "            data = fileres.read(CHUNK_SIZE)\n",
        "            while len(data) > 0:\n",
        "                dl += len(data)\n",
        "                tfile.write(data)\n",
        "                done = int(50 * dl / int(total_length))\n",
        "                sys.stdout.write(f\"\\r[{'=' * done}{' ' * (50-done)}] {dl} bytes downloaded\")\n",
        "                sys.stdout.flush()\n",
        "                data = fileres.read(CHUNK_SIZE)\n",
        "            if filename.endswith('.zip'):\n",
        "              with ZipFile(tfile) as zfile:\n",
        "                zfile.extractall(destination_path)\n",
        "            else:\n",
        "              with tarfile.open(tfile.name) as tarfile:\n",
        "                tarfile.extractall(destination_path)\n",
        "            print(f'\\nDownloaded and uncompressed: {directory}')\n",
        "    except HTTPError as e:\n",
        "        print(f'Failed to load (likely expired) {download_url} to path {destination_path}')\n",
        "        continue\n",
        "    except OSError as e:\n",
        "        print(f'Failed to load {download_url} to path {destination_path}')\n",
        "        continue\n",
        "\n",
        "print('Data source import complete.')\n"
      ],
      "metadata": {
        "id": "qu1lKlNuoy5X",
        "outputId": "f9e4c810-53a4-475a-c9af-aafc5fcf85fc",
        "colab": {
          "base_uri": "https://localhost:8080/"
        }
      },
      "cell_type": "code",
      "outputs": [
        {
          "output_type": "stream",
          "name": "stdout",
          "text": [
            "Downloading keras-pretrained-models, 989248706 bytes compressed\n",
            "[==================================================] 989248706 bytes downloaded\n",
            "Downloaded and uncompressed: keras-pretrained-models\n",
            "Downloading fer2013, 63252113 bytes compressed\n",
            "[==================================================] 63252113 bytes downloaded\n",
            "Downloaded and uncompressed: fer2013\n",
            "Downloading emotion-detection-fer, 68327503 bytes compressed\n",
            "[==================================================] 68327503 bytes downloaded\n",
            "Downloaded and uncompressed: emotion-detection-fer\n",
            "Data source import complete.\n"
          ]
        }
      ],
      "execution_count": 2
    },
    {
      "metadata": {
        "_uuid": "8f2839f25d086af736a60e9eeb907d3b93b6e0e5",
        "_cell_guid": "b1076dfc-b9ad-4769-8c92-a6c4dae69d19",
        "trusted": true,
        "id": "-XL_mWLhoy5c"
      },
      "cell_type": "code",
      "source": [
        "import numpy as np # linear algebra\n",
        "import pandas as pd # data processing, CSV file I/O (e.g. pd.read_csv)\n",
        "import os\n",
        "#for dirname, _, filenames in os.walk('/kaggle/input'):\n",
        "    #for filename in filenames:\n",
        "        #print(os.path.join(dirname, filename))\n",
        "import matplotlib.pyplot as plt\n",
        "import seaborn as sns\n",
        "import tensorflow as tf\n",
        "import keras\n",
        "from keras.preprocessing import image\n",
        "from keras.models import Sequential\n",
        "from keras.layers import Conv2D, MaxPool2D, Flatten,Dense,Dropout,BatchNormalization\n",
        "from tensorflow.keras.preprocessing.image import ImageDataGenerator\n",
        "import cv2\n",
        "from tensorflow.keras.applications import VGG16, InceptionResNetV2\n",
        "from keras import regularizers\n",
        "from tensorflow.keras.optimizers import Adam,RMSprop,SGD,Adamax"
      ],
      "execution_count": 3,
      "outputs": []
    },
    {
      "metadata": {
        "trusted": true,
        "id": "d9uo2w3woy5d"
      },
      "cell_type": "code",
      "source": [
        "train_dir = \"../input/emotion-detection-fer/train\" #passing the path with training images\n",
        "test_dir = \"../input/emotion-detection-fer/test\"   #passing the path with testing images"
      ],
      "execution_count": 4,
      "outputs": []
    },
    {
      "metadata": {
        "trusted": true,
        "id": "YaAvslyyoy5e"
      },
      "cell_type": "code",
      "source": [
        "img_size = 48 #original size of the image"
      ],
      "execution_count": 5,
      "outputs": []
    },
    {
      "metadata": {
        "trusted": true,
        "id": "lVVDBZFQoy5e"
      },
      "cell_type": "code",
      "source": [
        "\"\"\"\n",
        "Data Augmentation\n",
        "--------------------------\n",
        "rotation_range = rotates the image with the amount of degrees we provide\n",
        "width_shift_range = shifts the image randomly to the right or left along the width of the image\n",
        "height_shift range = shifts image randomly to up or below along the height of the image\n",
        "horizontal_flip = flips the image horizontally\n",
        "rescale = to scale down the pizel values in our image between 0 and 1\n",
        "zoom_range = applies random zoom to our object\n",
        "validation_split = reserves some images to be used for validation purpose\n",
        "\"\"\"\n",
        "\n",
        "train_datagen = ImageDataGenerator(#rotation_range = 180,\n",
        "                                         width_shift_range = 0.1,\n",
        "                                         height_shift_range = 0.1,\n",
        "                                         horizontal_flip = True,\n",
        "                                         rescale = 1./255,\n",
        "                                         #zoom_range = 0.2,\n",
        "                                         validation_split = 0.2\n",
        "                                        )\n",
        "validation_datagen = ImageDataGenerator(rescale = 1./255,\n",
        "                                         validation_split = 0.2)"
      ],
      "execution_count": 6,
      "outputs": []
    },
    {
      "metadata": {
        "trusted": true,
        "id": "FzU6MOvEoy5f",
        "outputId": "5d67d25a-c431-4686-a9d2-604b5b3f0cfb",
        "colab": {
          "base_uri": "https://localhost:8080/"
        }
      },
      "cell_type": "code",
      "source": [
        "\"\"\"\n",
        "Applying data augmentation to the images as we read\n",
        "them from their respectivve directories\n",
        "\"\"\"\n",
        "train_generator = train_datagen.flow_from_directory(directory = train_dir,\n",
        "                                                    target_size = (img_size,img_size),\n",
        "                                                    batch_size = 64,\n",
        "                                                    color_mode = \"grayscale\",\n",
        "                                                    class_mode = \"categorical\",\n",
        "                                                    subset = \"training\"\n",
        "                                                   )\n",
        "validation_generator = validation_datagen.flow_from_directory( directory = test_dir,\n",
        "                                                              target_size = (img_size,img_size),\n",
        "                                                              batch_size = 64,\n",
        "                                                              color_mode = \"grayscale\",\n",
        "                                                              class_mode = \"categorical\",\n",
        "                                                              subset = \"validation\"\n",
        "                                                             )"
      ],
      "execution_count": 7,
      "outputs": [
        {
          "output_type": "stream",
          "name": "stdout",
          "text": [
            "Found 22968 images belonging to 7 classes.\n",
            "Found 1432 images belonging to 7 classes.\n"
          ]
        }
      ]
    },
    {
      "metadata": {
        "trusted": true,
        "id": "8-eOaKx7oy5f",
        "outputId": "f0d27c86-7cb1-4842-b985-f394e4bb8bbe",
        "colab": {
          "base_uri": "https://localhost:8080/",
          "height": 123
        }
      },
      "cell_type": "code",
      "source": [
        "\"\"\"\n",
        "Modeling\n",
        "\n",
        "\n",
        "model = Sequential()\n",
        "model.add(Conv2D(filters = 64,kernel_size = (3,3),padding = 'same',activation = 'relu',input_shape=(img_size,img_size,1)))\n",
        "model.add(MaxPool2D(pool_size = 2,strides = 2))\n",
        "model.add(BatchNormalization())\n",
        "\n",
        "model.add(Conv2D(filters = 128,kernel_size = (3,3),padding = 'same',activation = 'relu'))\n",
        "model.add(MaxPool2D(pool_size = 2,strides = 2))\n",
        "model.add(BatchNormalization())\n",
        "model.add(Dropout(0.25))\n",
        "\n",
        "model.add(Conv2D(filters = 128,kernel_size = (3,3),padding = 'same',activation = 'relu'))\n",
        "model.add(MaxPool2D(pool_size = 2,strides = 2))\n",
        "model.add(BatchNormalization())\n",
        "model.add(Dropout(0.25))\n",
        "\n",
        "model.add(Conv2D(filters = 256,kernel_size = (3,3),padding = 'same',activation = 'relu'))\n",
        "model.add(MaxPool2D(pool_size = 2,strides = 2))\n",
        "model.add(BatchNormalization())\n",
        "\n",
        "model.add(Flatten())\n",
        "model.add(Dense(units = 128,activation = 'relu',kernel_initializer='he_normal'))\n",
        "model.add(Dropout(0.25))\n",
        "model.add(Dense(units = 64,activation = 'relu',kernel_initializer='he_normal'))\n",
        "model.add(BatchNormalization())\n",
        "model.add(Dropout(0.25))\n",
        "model.add(Dense(units = 32,activation = 'relu',kernel_initializer='he_normal'))\n",
        "model.add(Dense(7,activation = 'softmax'))\n",
        "\n",
        "\"\"\""
      ],
      "execution_count": 8,
      "outputs": [
        {
          "output_type": "execute_result",
          "data": {
            "text/plain": [
              "\"\\nModeling\\n\\n\\nmodel = Sequential()\\nmodel.add(Conv2D(filters = 64,kernel_size = (3,3),padding = 'same',activation = 'relu',input_shape=(img_size,img_size,1)))\\nmodel.add(MaxPool2D(pool_size = 2,strides = 2))\\nmodel.add(BatchNormalization())\\n\\nmodel.add(Conv2D(filters = 128,kernel_size = (3,3),padding = 'same',activation = 'relu'))\\nmodel.add(MaxPool2D(pool_size = 2,strides = 2))\\nmodel.add(BatchNormalization())\\nmodel.add(Dropout(0.25))\\n\\nmodel.add(Conv2D(filters = 128,kernel_size = (3,3),padding = 'same',activation = 'relu'))\\nmodel.add(MaxPool2D(pool_size = 2,strides = 2))\\nmodel.add(BatchNormalization())\\nmodel.add(Dropout(0.25))\\n\\nmodel.add(Conv2D(filters = 256,kernel_size = (3,3),padding = 'same',activation = 'relu'))\\nmodel.add(MaxPool2D(pool_size = 2,strides = 2))\\nmodel.add(BatchNormalization())\\n\\nmodel.add(Flatten())\\nmodel.add(Dense(units = 128,activation = 'relu',kernel_initializer='he_normal'))\\nmodel.add(Dropout(0.25))\\nmodel.add(Dense(units = 64,activation = 'relu',kernel_initializer='he_normal'))\\nmodel.add(BatchNormalization())\\nmodel.add(Dropout(0.25))\\nmodel.add(Dense(units = 32,activation = 'relu',kernel_initializer='he_normal'))\\nmodel.add(Dense(7,activation = 'softmax'))\\n\\n\""
            ],
            "application/vnd.google.colaboratory.intrinsic+json": {
              "type": "string"
            }
          },
          "metadata": {},
          "execution_count": 8
        }
      ]
    },
    {
      "metadata": {
        "trusted": true,
        "id": "8wVzfRBooy5g",
        "outputId": "b66d913b-a107-4a32-ebd2-5969bc9b44bd",
        "colab": {
          "base_uri": "https://localhost:8080/"
        }
      },
      "cell_type": "code",
      "source": [
        "model= tf.keras.models.Sequential()\n",
        "model.add(Conv2D(32, kernel_size=(3, 3), padding='same', activation='relu', input_shape=(48, 48,1)))\n",
        "model.add(Conv2D(64,(3,3), padding='same', activation='relu' ))\n",
        "model.add(BatchNormalization())\n",
        "model.add(MaxPool2D(pool_size=(2, 2)))\n",
        "model.add(Dropout(0.25))\n",
        "\n",
        "model.add(Conv2D(128,(5,5), padding='same', activation='relu'))\n",
        "model.add(BatchNormalization())\n",
        "model.add(MaxPool2D(pool_size=(2, 2)))\n",
        "model.add(Dropout(0.25))\n",
        "\n",
        "model.add(Conv2D(512,(3,3), padding='same', activation='relu', kernel_regularizer=regularizers.l2(0.01)))\n",
        "model.add(BatchNormalization())\n",
        "model.add(MaxPool2D(pool_size=(2, 2)))\n",
        "model.add(Dropout(0.25))\n",
        "\n",
        "model.add(Conv2D(512,(3,3), padding='same', activation='relu', kernel_regularizer=regularizers.l2(0.01)))\n",
        "model.add(BatchNormalization())\n",
        "model.add(MaxPool2D(pool_size=(2, 2)))\n",
        "model.add(Dropout(0.25))\n",
        "\n",
        "model.add(Flatten())\n",
        "model.add(Dense(256,activation = 'relu'))\n",
        "model.add(BatchNormalization())\n",
        "model.add(Dropout(0.25))\n",
        "\n",
        "model.add(Dense(512,activation = 'relu'))\n",
        "model.add(BatchNormalization())\n",
        "model.add(Dropout(0.25))\n",
        "\n",
        "model.add(Dense(7, activation='softmax'))\n",
        "\n",
        "model.compile(\n",
        "    optimizer = Adam(lr=0.0001),\n",
        "    loss='categorical_crossentropy',\n",
        "    metrics=['accuracy']\n",
        "  )"
      ],
      "execution_count": 9,
      "outputs": [
        {
          "output_type": "stream",
          "name": "stderr",
          "text": [
            "WARNING:absl:`lr` is deprecated in Keras optimizer, please use `learning_rate` or use the legacy optimizer, e.g.,tf.keras.optimizers.legacy.Adam.\n"
          ]
        }
      ]
    },
    {
      "metadata": {
        "trusted": true,
        "id": "sfVhekuNoy5h"
      },
      "cell_type": "code",
      "source": [
        "epochs = 50\n",
        "batch_size = 64"
      ],
      "execution_count": 10,
      "outputs": []
    },
    {
      "metadata": {
        "trusted": true,
        "id": "8WPeoFwNoy5h",
        "outputId": "5bced1c3-5669-4db6-96f8-0901c56b7667",
        "colab": {
          "base_uri": "https://localhost:8080/"
        }
      },
      "cell_type": "code",
      "source": [
        "model.summary()"
      ],
      "execution_count": 11,
      "outputs": [
        {
          "output_type": "stream",
          "name": "stdout",
          "text": [
            "Model: \"sequential\"\n",
            "_________________________________________________________________\n",
            " Layer (type)                Output Shape              Param #   \n",
            "=================================================================\n",
            " conv2d (Conv2D)             (None, 48, 48, 32)        320       \n",
            "                                                                 \n",
            " conv2d_1 (Conv2D)           (None, 48, 48, 64)        18496     \n",
            "                                                                 \n",
            " batch_normalization (Batch  (None, 48, 48, 64)        256       \n",
            " Normalization)                                                  \n",
            "                                                                 \n",
            " max_pooling2d (MaxPooling2  (None, 24, 24, 64)        0         \n",
            " D)                                                              \n",
            "                                                                 \n",
            " dropout (Dropout)           (None, 24, 24, 64)        0         \n",
            "                                                                 \n",
            " conv2d_2 (Conv2D)           (None, 24, 24, 128)       204928    \n",
            "                                                                 \n",
            " batch_normalization_1 (Bat  (None, 24, 24, 128)       512       \n",
            " chNormalization)                                                \n",
            "                                                                 \n",
            " max_pooling2d_1 (MaxPoolin  (None, 12, 12, 128)       0         \n",
            " g2D)                                                            \n",
            "                                                                 \n",
            " dropout_1 (Dropout)         (None, 12, 12, 128)       0         \n",
            "                                                                 \n",
            " conv2d_3 (Conv2D)           (None, 12, 12, 512)       590336    \n",
            "                                                                 \n",
            " batch_normalization_2 (Bat  (None, 12, 12, 512)       2048      \n",
            " chNormalization)                                                \n",
            "                                                                 \n",
            " max_pooling2d_2 (MaxPoolin  (None, 6, 6, 512)         0         \n",
            " g2D)                                                            \n",
            "                                                                 \n",
            " dropout_2 (Dropout)         (None, 6, 6, 512)         0         \n",
            "                                                                 \n",
            " conv2d_4 (Conv2D)           (None, 6, 6, 512)         2359808   \n",
            "                                                                 \n",
            " batch_normalization_3 (Bat  (None, 6, 6, 512)         2048      \n",
            " chNormalization)                                                \n",
            "                                                                 \n",
            " max_pooling2d_3 (MaxPoolin  (None, 3, 3, 512)         0         \n",
            " g2D)                                                            \n",
            "                                                                 \n",
            " dropout_3 (Dropout)         (None, 3, 3, 512)         0         \n",
            "                                                                 \n",
            " flatten (Flatten)           (None, 4608)              0         \n",
            "                                                                 \n",
            " dense (Dense)               (None, 256)               1179904   \n",
            "                                                                 \n",
            " batch_normalization_4 (Bat  (None, 256)               1024      \n",
            " chNormalization)                                                \n",
            "                                                                 \n",
            " dropout_4 (Dropout)         (None, 256)               0         \n",
            "                                                                 \n",
            " dense_1 (Dense)             (None, 512)               131584    \n",
            "                                                                 \n",
            " batch_normalization_5 (Bat  (None, 512)               2048      \n",
            " chNormalization)                                                \n",
            "                                                                 \n",
            " dropout_5 (Dropout)         (None, 512)               0         \n",
            "                                                                 \n",
            " dense_2 (Dense)             (None, 7)                 3591      \n",
            "                                                                 \n",
            "=================================================================\n",
            "Total params: 4496903 (17.15 MB)\n",
            "Trainable params: 4492935 (17.14 MB)\n",
            "Non-trainable params: 3968 (15.50 KB)\n",
            "_________________________________________________________________\n"
          ]
        }
      ]
    },
    {
      "metadata": {
        "trusted": true,
        "id": "nb768Faooy5h",
        "outputId": "fbdec0c4-27c9-436a-cf08-1b99dab1316c",
        "colab": {
          "base_uri": "https://localhost:8080/"
        }
      },
      "cell_type": "code",
      "source": [
        "history = model.fit(x = train_generator,epochs = epochs,validation_data = validation_generator)"
      ],
      "execution_count": 12,
      "outputs": [
        {
          "output_type": "stream",
          "name": "stdout",
          "text": [
            "Epoch 1/50\n",
            "359/359 [==============================] - 36s 68ms/step - loss: 5.3617 - accuracy: 0.2425 - val_loss: 3.5510 - val_accuracy: 0.2472\n",
            "Epoch 2/50\n",
            "359/359 [==============================] - 23s 64ms/step - loss: 2.4027 - accuracy: 0.3513 - val_loss: 3.1203 - val_accuracy: 0.2737\n",
            "Epoch 3/50\n",
            "359/359 [==============================] - 22s 60ms/step - loss: 2.3794 - accuracy: 0.4269 - val_loss: 2.2981 - val_accuracy: 0.4288\n",
            "Epoch 4/50\n",
            "359/359 [==============================] - 23s 65ms/step - loss: 2.2142 - accuracy: 0.4613 - val_loss: 2.3732 - val_accuracy: 0.4162\n",
            "Epoch 5/50\n",
            "359/359 [==============================] - 22s 62ms/step - loss: 2.1829 - accuracy: 0.4850 - val_loss: 2.2863 - val_accuracy: 0.4651\n",
            "Epoch 6/50\n",
            "359/359 [==============================] - 22s 62ms/step - loss: 2.1040 - accuracy: 0.4927 - val_loss: 2.1837 - val_accuracy: 0.4358\n",
            "Epoch 7/50\n",
            "359/359 [==============================] - 22s 62ms/step - loss: 2.0650 - accuracy: 0.5020 - val_loss: 2.0563 - val_accuracy: 0.5112\n",
            "Epoch 8/50\n",
            "359/359 [==============================] - 21s 60ms/step - loss: 2.0580 - accuracy: 0.5077 - val_loss: 2.1085 - val_accuracy: 0.4644\n",
            "Epoch 9/50\n",
            "359/359 [==============================] - 22s 62ms/step - loss: 2.0110 - accuracy: 0.5091 - val_loss: 2.1319 - val_accuracy: 0.4378\n",
            "Epoch 10/50\n",
            "359/359 [==============================] - 22s 60ms/step - loss: 2.0402 - accuracy: 0.5175 - val_loss: 1.9834 - val_accuracy: 0.5412\n",
            "Epoch 11/50\n",
            "359/359 [==============================] - 22s 61ms/step - loss: 2.0344 - accuracy: 0.5224 - val_loss: 2.3149 - val_accuracy: 0.5091\n",
            "Epoch 12/50\n",
            "359/359 [==============================] - 23s 64ms/step - loss: 1.9548 - accuracy: 0.5318 - val_loss: 1.8443 - val_accuracy: 0.5838\n",
            "Epoch 13/50\n",
            "359/359 [==============================] - 22s 61ms/step - loss: 1.9781 - accuracy: 0.5299 - val_loss: 1.9931 - val_accuracy: 0.5391\n",
            "Epoch 14/50\n",
            "359/359 [==============================] - 21s 59ms/step - loss: 1.9457 - accuracy: 0.5361 - val_loss: 1.9569 - val_accuracy: 0.5209\n",
            "Epoch 15/50\n",
            "359/359 [==============================] - 22s 61ms/step - loss: 1.8551 - accuracy: 0.5380 - val_loss: 1.8811 - val_accuracy: 0.5517\n",
            "Epoch 16/50\n",
            "359/359 [==============================] - 22s 61ms/step - loss: 1.8785 - accuracy: 0.5399 - val_loss: 2.2098 - val_accuracy: 0.5223\n",
            "Epoch 17/50\n",
            "359/359 [==============================] - 21s 59ms/step - loss: 1.8810 - accuracy: 0.5433 - val_loss: 1.7631 - val_accuracy: 0.5768\n",
            "Epoch 18/50\n",
            "359/359 [==============================] - 22s 61ms/step - loss: 1.8475 - accuracy: 0.5498 - val_loss: 1.8180 - val_accuracy: 0.5642\n",
            "Epoch 19/50\n",
            "359/359 [==============================] - 22s 61ms/step - loss: 1.8250 - accuracy: 0.5511 - val_loss: 1.7963 - val_accuracy: 0.5461\n",
            "Epoch 20/50\n",
            "359/359 [==============================] - 21s 59ms/step - loss: 1.7753 - accuracy: 0.5563 - val_loss: 1.6877 - val_accuracy: 0.5677\n",
            "Epoch 21/50\n",
            "359/359 [==============================] - 23s 63ms/step - loss: 1.7466 - accuracy: 0.5578 - val_loss: 1.7805 - val_accuracy: 0.5628\n",
            "Epoch 22/50\n",
            "359/359 [==============================] - 22s 60ms/step - loss: 1.7579 - accuracy: 0.5590 - val_loss: 2.1565 - val_accuracy: 0.4839\n",
            "Epoch 23/50\n",
            "359/359 [==============================] - 22s 61ms/step - loss: 1.7523 - accuracy: 0.5572 - val_loss: 1.7672 - val_accuracy: 0.5573\n",
            "Epoch 24/50\n",
            "359/359 [==============================] - 22s 61ms/step - loss: 1.6840 - accuracy: 0.5641 - val_loss: 1.7207 - val_accuracy: 0.5642\n",
            "Epoch 25/50\n",
            "359/359 [==============================] - 21s 60ms/step - loss: 1.6724 - accuracy: 0.5628 - val_loss: 1.6968 - val_accuracy: 0.5719\n",
            "Epoch 26/50\n",
            "359/359 [==============================] - 22s 62ms/step - loss: 1.6864 - accuracy: 0.5653 - val_loss: 2.0055 - val_accuracy: 0.5649\n",
            "Epoch 27/50\n",
            "359/359 [==============================] - 22s 61ms/step - loss: 1.6995 - accuracy: 0.5730 - val_loss: 1.5370 - val_accuracy: 0.6061\n",
            "Epoch 28/50\n",
            "359/359 [==============================] - 22s 62ms/step - loss: 1.5937 - accuracy: 0.5720 - val_loss: 1.7113 - val_accuracy: 0.5615\n",
            "Epoch 29/50\n",
            "359/359 [==============================] - 22s 61ms/step - loss: 1.5893 - accuracy: 0.5705 - val_loss: 1.5517 - val_accuracy: 0.5838\n",
            "Epoch 30/50\n",
            "359/359 [==============================] - 21s 59ms/step - loss: 1.5785 - accuracy: 0.5766 - val_loss: 1.6421 - val_accuracy: 0.5726\n",
            "Epoch 31/50\n",
            "359/359 [==============================] - 22s 61ms/step - loss: 1.5545 - accuracy: 0.5779 - val_loss: 1.5127 - val_accuracy: 0.5985\n",
            "Epoch 32/50\n",
            "359/359 [==============================] - 22s 61ms/step - loss: 1.6090 - accuracy: 0.5741 - val_loss: 1.5181 - val_accuracy: 0.5929\n",
            "Epoch 33/50\n",
            "359/359 [==============================] - 22s 61ms/step - loss: 1.5452 - accuracy: 0.5815 - val_loss: 1.5353 - val_accuracy: 0.5684\n",
            "Epoch 34/50\n",
            "359/359 [==============================] - 21s 59ms/step - loss: 1.5240 - accuracy: 0.5825 - val_loss: 1.4818 - val_accuracy: 0.5943\n",
            "Epoch 35/50\n",
            "359/359 [==============================] - 22s 62ms/step - loss: 1.5112 - accuracy: 0.5831 - val_loss: 1.5028 - val_accuracy: 0.5859\n",
            "Epoch 36/50\n",
            "359/359 [==============================] - 22s 62ms/step - loss: 1.6795 - accuracy: 0.5793 - val_loss: 1.4763 - val_accuracy: 0.6082\n",
            "Epoch 37/50\n",
            "359/359 [==============================] - 22s 61ms/step - loss: 1.5207 - accuracy: 0.5843 - val_loss: 1.4449 - val_accuracy: 0.5880\n",
            "Epoch 38/50\n",
            "359/359 [==============================] - 22s 61ms/step - loss: 1.5873 - accuracy: 0.5812 - val_loss: 1.5323 - val_accuracy: 0.5670\n",
            "Epoch 39/50\n",
            "359/359 [==============================] - 23s 64ms/step - loss: 1.4723 - accuracy: 0.5828 - val_loss: 1.4710 - val_accuracy: 0.5824\n",
            "Epoch 40/50\n",
            "359/359 [==============================] - 22s 62ms/step - loss: 1.5233 - accuracy: 0.5869 - val_loss: 1.6718 - val_accuracy: 0.5936\n",
            "Epoch 41/50\n",
            "359/359 [==============================] - 22s 60ms/step - loss: 1.5153 - accuracy: 0.5892 - val_loss: 1.4667 - val_accuracy: 0.5999\n",
            "Epoch 42/50\n",
            "359/359 [==============================] - 22s 61ms/step - loss: 1.4667 - accuracy: 0.5904 - val_loss: 1.4675 - val_accuracy: 0.5957\n",
            "Epoch 43/50\n",
            "359/359 [==============================] - 22s 62ms/step - loss: 1.6199 - accuracy: 0.5863 - val_loss: 1.5472 - val_accuracy: 0.6006\n",
            "Epoch 44/50\n",
            "359/359 [==============================] - 21s 59ms/step - loss: 1.4790 - accuracy: 0.5894 - val_loss: 1.4759 - val_accuracy: 0.5852\n",
            "Epoch 45/50\n",
            "359/359 [==============================] - 22s 62ms/step - loss: 1.5051 - accuracy: 0.5905 - val_loss: 1.4818 - val_accuracy: 0.5915\n",
            "Epoch 46/50\n",
            "359/359 [==============================] - 22s 61ms/step - loss: 1.4561 - accuracy: 0.5994 - val_loss: 1.4145 - val_accuracy: 0.6138\n",
            "Epoch 47/50\n",
            "359/359 [==============================] - 22s 61ms/step - loss: 1.4840 - accuracy: 0.5881 - val_loss: 1.4714 - val_accuracy: 0.5915\n",
            "Epoch 48/50\n",
            "359/359 [==============================] - 22s 61ms/step - loss: 1.4628 - accuracy: 0.5936 - val_loss: 1.4510 - val_accuracy: 0.6006\n",
            "Epoch 49/50\n",
            "359/359 [==============================] - 22s 61ms/step - loss: 1.4340 - accuracy: 0.5987 - val_loss: 1.4514 - val_accuracy: 0.5873\n",
            "Epoch 50/50\n",
            "359/359 [==============================] - 22s 61ms/step - loss: 1.4317 - accuracy: 0.5969 - val_loss: 1.3908 - val_accuracy: 0.6180\n"
          ]
        }
      ]
    },
    {
      "metadata": {
        "trusted": true,
        "id": "tSnpF90ioy5i",
        "outputId": "0519aead-98ce-470d-802b-566fa88ca071",
        "colab": {
          "base_uri": "https://localhost:8080/",
          "height": 410
        }
      },
      "cell_type": "code",
      "source": [
        "fig , ax = plt.subplots(1,2)\n",
        "train_acc = history.history['accuracy']\n",
        "train_loss = history.history['loss']\n",
        "fig.set_size_inches(12,4)\n",
        "\n",
        "ax[0].plot(history.history['accuracy'])\n",
        "ax[0].plot(history.history['val_accuracy'])\n",
        "ax[0].set_title('Training Accuracy vs Validation Accuracy')\n",
        "ax[0].set_ylabel('Accuracy')\n",
        "ax[0].set_xlabel('Epoch')\n",
        "ax[0].legend(['Train', 'Validation'], loc='upper left')\n",
        "\n",
        "ax[1].plot(history.history['loss'])\n",
        "ax[1].plot(history.history['val_loss'])\n",
        "ax[1].set_title('Training Loss vs Validation Loss')\n",
        "ax[1].set_ylabel('Loss')\n",
        "ax[1].set_xlabel('Epoch')\n",
        "ax[1].legend(['Train', 'Validation'], loc='upper left')\n",
        "\n",
        "plt.show()"
      ],
      "execution_count": 13,
      "outputs": [
        {
          "output_type": "display_data",
          "data": {
            "text/plain": [
              "<Figure size 1200x400 with 2 Axes>"
            ],
            "image/png": "[encoded data removed]"
          },
          "metadata": {}
        }
      ]
    },
    {
      "metadata": {
        "trusted": true,
        "id": "75AVd-O0oy5i",
        "outputId": "7615e269-471e-493f-a29d-299670b5ce6c",
        "colab": {
          "base_uri": "https://localhost:8080/"
        }
      },
      "cell_type": "code",
      "source": [
        "model.save('model_optimal.h5')"
      ],
      "execution_count": 14,
      "outputs": [
        {
          "output_type": "stream",
          "name": "stderr",
          "text": [
            "/usr/local/lib/python3.10/dist-packages/keras/src/engine/training.py:3103: UserWarning: You are saving your model as an HDF5 file via `model.save()`. This file format is considered legacy. We recommend using instead the native Keras format, e.g. `model.save('my_model.keras')`.\n",
            "  saving_api.save_model(\n"
          ]
        }
      ]
    },
    {
      "metadata": {
        "trusted": true,
        "id": "txe6Qi4Soy5i",
        "outputId": "d489452e-f426-4837-e3cf-460df28e6302",
        "colab": {
          "base_uri": "https://localhost:8080/",
          "height": 448
        }
      },
      "cell_type": "code",
      "source": [
        "img = image.load_img(\"../input/emotion-detection-fer/test/happy/im1021.png\",target_size = (48,48),color_mode = \"grayscale\")\n",
        "img = np.array(img)\n",
        "plt.imshow(img)\n",
        "print(img.shape) #prints (48,48) that is the shape of our image"
      ],
      "execution_count": 15,
      "outputs": [
        {
          "output_type": "stream",
          "name": "stdout",
          "text": [
            "(48, 48)\n"
          ]
        },
        {
          "output_type": "display_data",
          "data": {
            "text/plain": [
              "<Figure size 640x480 with 1 Axes>"
            ],
            "image/png": "[encoded data removed]"
          },
          "metadata": {}
        }
      ]
    },
    {
      "metadata": {
        "trusted": true,
        "id": "geik4Loxoy5i"
      },
      "cell_type": "code",
      "source": [
        "label_dict = {0:'Angry',1:'Disgust',2:'Fear',3:'Happy',4:'Neutral',5:'Sad',6:'Surprise'}"
      ],
      "execution_count": 16,
      "outputs": []
    },
    {
      "metadata": {
        "trusted": true,
        "id": "rMVSb3Lxoy5i",
        "outputId": "91774151-3973-4ba0-dab1-dfc3532cc517",
        "colab": {
          "base_uri": "https://localhost:8080/"
        }
      },
      "cell_type": "code",
      "source": [
        "img = np.expand_dims(img,axis = 0) #makes image shape (1,48,48)\n",
        "img = img.reshape(1,48,48,1)\n",
        "result = model.predict(img)\n",
        "result = list(result[0])\n",
        "print(result)"
      ],
      "execution_count": 17,
      "outputs": [
        {
          "output_type": "stream",
          "name": "stdout",
          "text": [
            "1/1 [==============================] - 1s 512ms/step\n",
            "[0.0, 0.0, 5.280103e-27, 0.9999999, 0.0, 0.0, 1.1397294e-07]\n"
          ]
        }
      ]
    },
    {
      "metadata": {
        "trusted": true,
        "id": "23vnaJ4Poy5j",
        "outputId": "3f67e2ae-1f20-408b-f44e-a10734d5f2ad",
        "colab": {
          "base_uri": "https://localhost:8080/"
        }
      },
      "cell_type": "code",
      "source": [
        "img_index = result.index(max(result))\n",
        "print(label_dict[img_index])\n",
        "plt.show()"
      ],
      "execution_count": 18,
      "outputs": [
        {
          "output_type": "stream",
          "name": "stdout",
          "text": [
            "Happy\n"
          ]
        }
      ]
    },
    {
      "metadata": {
        "trusted": true,
        "id": "Vrf0fCiwoy5j",
        "outputId": "4b840eec-b995-4e9f-eef7-8a69ee01c95c",
        "colab": {
          "base_uri": "https://localhost:8080/"
        }
      },
      "cell_type": "code",
      "source": [
        "train_loss, train_acc = model.evaluate(train_generator)\n",
        "test_loss, test_acc   = model.evaluate(validation_generator)\n",
        "print(\"final train accuracy = {:.2f} , validation accuracy = {:.2f}\".format(train_acc*100, test_acc*100))"
      ],
      "execution_count": 19,
      "outputs": [
        {
          "output_type": "stream",
          "name": "stdout",
          "text": [
            "359/359 [==============================] - 18s 50ms/step - loss: 1.3198 - accuracy: 0.6325\n",
            "23/23 [==============================] - 1s 21ms/step - loss: 1.3909 - accuracy: 0.6180\n",
            "final train accuracy = 63.25 , validation accuracy = 61.80\n"
          ]
        }
      ]
    },
    {
      "metadata": {
        "trusted": true,
        "id": "sRFrNvavoy5j"
      },
      "cell_type": "code",
      "source": [
        "model.save_weights('model_weights.h5')"
      ],
      "execution_count": 20,
      "outputs": []
    },
    {
      "metadata": {
        "trusted": true,
        "id": "BZvjSlGLoy5j"
      },
      "cell_type": "code",
      "source": [],
      "execution_count": 20,
      "outputs": []
    }
  ],
  "metadata": {
    "kernelspec": {
      "display_name": "Python 3",
      "name": "python3"
    },
    "language_info": {
      "pygments_lexer": "ipython3",
      "nbconvert_exporter": "python",
      "version": "3.6.4",
      "file_extension": ".py",
      "codemirror_mode": {
        "name": "ipython",
        "version": 3
      },
      "name": "python",
      "mimetype": "text/x-python"
    },
    "colab": {
      "name": "notebookabf519b607",
      "provenance": [],
      "gpuType": "T4",
      "include_colab_link": true
    },
    "accelerator": "GPU"
  },
  "nbformat": 4,
  "nbformat_minor": 0
}